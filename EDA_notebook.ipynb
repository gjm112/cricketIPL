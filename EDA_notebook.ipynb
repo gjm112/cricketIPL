{
 "cells": [
  {
   "cell_type": "markdown",
   "metadata": {},
   "source": [
    "Cricket League Evals EDA"
   ]
  },
  {
   "cell_type": "code",
   "execution_count": 81,
   "metadata": {},
   "outputs": [],
   "source": [
    "import pandas as pd\n",
    "import numpy as np\n",
    "import matplotlib.pyplot as plt\n",
    "import cleaned_data as data\n",
    "import matplotlib.pyplot as plt\n",
    "import seaborn as sns"
   ]
  },
  {
   "cell_type": "markdown",
   "metadata": {},
   "source": [
    "# all data"
   ]
  },
  {
   "cell_type": "code",
   "execution_count": 10,
   "metadata": {},
   "outputs": [
    {
     "name": "stderr",
     "output_type": "stream",
     "text": [
      "C:\\Users\\Leigh\\AppData\\Local\\Temp\\ipykernel_19704\\3665670026.py:1: DtypeWarning: Columns (1,30,31) have mixed types. Specify dtype option on import or set low_memory=False.\n",
      "  cricket_data = pd.read_csv('data/cricket_data.csv')\n"
     ]
    },
    {
     "name": "stdout",
     "output_type": "stream",
     "text": [
      "Index(['match_id', 'season', 'start_date', 'venue', 'innings', 'over', 'ball',\n",
      "       'batting_team', 'bowling_team', 'striker', 'non_striker', 'bowler',\n",
      "       'runs_off_bat', 'extras', 'ball_in_over', 'extra_ball',\n",
      "       'balls_remaining', 'runs_scored_yet', 'wicket', 'wickets_lost_yet',\n",
      "       'innings1_total', 'innings2_total', 'target', 'wides', 'noballs',\n",
      "       'byes', 'legbyes', 'penalty', 'wicket_type', 'player_dismissed',\n",
      "       'other_wicket_type', 'other_player_dismissed', '.groups', 'league',\n",
      "       'year'],\n",
      "      dtype='object')\n"
     ]
    }
   ],
   "source": [
    "cricket_data = pd.read_csv('data/cricket_data.csv')\n",
    "\n",
    "print(cricket_data.columns)"
   ]
  },
  {
   "cell_type": "markdown",
   "metadata": {},
   "source": [
    "columns included in model: [season, innings, target, balls_remaining, runs_scored_yet, wickets_lost_yet, venue, striker, bowler, league]\n",
    "\n",
    "response: runs_off_bat\n"
   ]
  },
  {
   "cell_type": "markdown",
   "metadata": {},
   "source": [
    "season:"
   ]
  },
  {
   "cell_type": "code",
   "execution_count": null,
   "metadata": {},
   "outputs": [
    {
     "data": {
      "text/plain": [
       "np.int64(2369)"
      ]
     },
     "execution_count": 31,
     "metadata": {},
     "output_type": "execute_result"
    }
   ],
   "source": [
    "cricket_data.groupby(['league', 'year'])['match_id'].nunique().sum() # total games in all data"
   ]
  },
  {
   "cell_type": "code",
   "execution_count": 33,
   "metadata": {},
   "outputs": [
    {
     "data": {
      "text/plain": [
       "league  year\n",
       "BBL     2011     27\n",
       "        2012     28\n",
       "        2013     34\n",
       "        2014     34\n",
       "        2015     32\n",
       "        2016     35\n",
       "        2017     43\n",
       "        2018     59\n",
       "        2019     61\n",
       "        2020     61\n",
       "        2021     60\n",
       "        2022     61\n",
       "        2023     41\n",
       "CPL     2013     23\n",
       "        2014     27\n",
       "        2015     32\n",
       "        2016     29\n",
       "        2017     34\n",
       "        2018     33\n",
       "        2019     34\n",
       "        2020     33\n",
       "        2021     33\n",
       "        2022     31\n",
       "        2023     32\n",
       "        2024     11\n",
       "IPL     2007     58\n",
       "        2009    117\n",
       "        2011     73\n",
       "        2012     74\n",
       "        2013     76\n",
       "        2014     60\n",
       "        2015     59\n",
       "        2016     60\n",
       "        2017     59\n",
       "        2018     60\n",
       "        2019     60\n",
       "        2020     60\n",
       "        2021     60\n",
       "        2022     74\n",
       "        2023     74\n",
       "        2024     71\n",
       "PSL     2015     23\n",
       "        2016     24\n",
       "        2017     33\n",
       "        2018     34\n",
       "        2019     28\n",
       "        2020     18\n",
       "        2021     54\n",
       "        2022     34\n",
       "        2023     32\n",
       "SAT     2022     33\n",
       "        2023     33\n",
       "Name: match_id, dtype: int64"
      ]
     },
     "execution_count": 33,
     "metadata": {},
     "output_type": "execute_result"
    }
   ],
   "source": [
    "cricket_data.groupby(['league', 'year'])['match_id'].nunique() # games per season / league"
   ]
  },
  {
   "cell_type": "markdown",
   "metadata": {},
   "source": [
    "innings:"
   ]
  },
  {
   "cell_type": "code",
   "execution_count": 34,
   "metadata": {},
   "outputs": [
    {
     "data": {
      "text/plain": [
       "innings\n",
       "2    2351\n",
       "1      18\n",
       "Name: count, dtype: int64"
      ]
     },
     "execution_count": 34,
     "metadata": {},
     "output_type": "execute_result"
    }
   ],
   "source": [
    "cricket_data.groupby(['match_id', 'year', 'league'])['innings'].max().value_counts()\n",
    "\n"
   ]
  },
  {
   "cell_type": "code",
   "execution_count": 38,
   "metadata": {},
   "outputs": [
    {
     "data": {
      "text/html": [
       "<div>\n",
       "<style scoped>\n",
       "    .dataframe tbody tr th:only-of-type {\n",
       "        vertical-align: middle;\n",
       "    }\n",
       "\n",
       "    .dataframe tbody tr th {\n",
       "        vertical-align: top;\n",
       "    }\n",
       "\n",
       "    .dataframe thead th {\n",
       "        text-align: right;\n",
       "    }\n",
       "</style>\n",
       "<table border=\"1\" class=\"dataframe\">\n",
       "  <thead>\n",
       "    <tr style=\"text-align: right;\">\n",
       "      <th></th>\n",
       "      <th></th>\n",
       "      <th>match_id</th>\n",
       "      <th>season</th>\n",
       "      <th>start_date</th>\n",
       "      <th>venue</th>\n",
       "      <th>innings</th>\n",
       "      <th>over</th>\n",
       "      <th>ball</th>\n",
       "      <th>batting_team</th>\n",
       "      <th>bowling_team</th>\n",
       "      <th>striker</th>\n",
       "      <th>...</th>\n",
       "      <th>wides</th>\n",
       "      <th>noballs</th>\n",
       "      <th>byes</th>\n",
       "      <th>legbyes</th>\n",
       "      <th>penalty</th>\n",
       "      <th>wicket_type</th>\n",
       "      <th>player_dismissed</th>\n",
       "      <th>other_wicket_type</th>\n",
       "      <th>other_player_dismissed</th>\n",
       "      <th>.groups</th>\n",
       "    </tr>\n",
       "    <tr>\n",
       "      <th>year</th>\n",
       "      <th>league</th>\n",
       "      <th></th>\n",
       "      <th></th>\n",
       "      <th></th>\n",
       "      <th></th>\n",
       "      <th></th>\n",
       "      <th></th>\n",
       "      <th></th>\n",
       "      <th></th>\n",
       "      <th></th>\n",
       "      <th></th>\n",
       "      <th></th>\n",
       "      <th></th>\n",
       "      <th></th>\n",
       "      <th></th>\n",
       "      <th></th>\n",
       "      <th></th>\n",
       "      <th></th>\n",
       "      <th></th>\n",
       "      <th></th>\n",
       "      <th></th>\n",
       "      <th></th>\n",
       "    </tr>\n",
       "  </thead>\n",
       "  <tbody>\n",
       "    <tr>\n",
       "      <th>2011</th>\n",
       "      <th>IPL</th>\n",
       "      <td>1</td>\n",
       "      <td>1</td>\n",
       "      <td>1</td>\n",
       "      <td>1</td>\n",
       "      <td>1</td>\n",
       "      <td>11</td>\n",
       "      <td>7</td>\n",
       "      <td>1</td>\n",
       "      <td>1</td>\n",
       "      <td>5</td>\n",
       "      <td>...</td>\n",
       "      <td>1</td>\n",
       "      <td>1</td>\n",
       "      <td>0</td>\n",
       "      <td>1</td>\n",
       "      <td>0</td>\n",
       "      <td>2</td>\n",
       "      <td>3</td>\n",
       "      <td>0</td>\n",
       "      <td>0</td>\n",
       "      <td>1</td>\n",
       "    </tr>\n",
       "    <tr>\n",
       "      <th>2013</th>\n",
       "      <th>BBL</th>\n",
       "      <td>1</td>\n",
       "      <td>1</td>\n",
       "      <td>1</td>\n",
       "      <td>1</td>\n",
       "      <td>1</td>\n",
       "      <td>6</td>\n",
       "      <td>7</td>\n",
       "      <td>1</td>\n",
       "      <td>1</td>\n",
       "      <td>2</td>\n",
       "      <td>...</td>\n",
       "      <td>1</td>\n",
       "      <td>0</td>\n",
       "      <td>0</td>\n",
       "      <td>1</td>\n",
       "      <td>0</td>\n",
       "      <td>1</td>\n",
       "      <td>1</td>\n",
       "      <td>0</td>\n",
       "      <td>0</td>\n",
       "      <td>1</td>\n",
       "    </tr>\n",
       "    <tr>\n",
       "      <th>2015</th>\n",
       "      <th>IPL</th>\n",
       "      <td>1</td>\n",
       "      <td>1</td>\n",
       "      <td>1</td>\n",
       "      <td>1</td>\n",
       "      <td>1</td>\n",
       "      <td>20</td>\n",
       "      <td>8</td>\n",
       "      <td>1</td>\n",
       "      <td>1</td>\n",
       "      <td>8</td>\n",
       "      <td>...</td>\n",
       "      <td>1</td>\n",
       "      <td>1</td>\n",
       "      <td>2</td>\n",
       "      <td>1</td>\n",
       "      <td>0</td>\n",
       "      <td>3</td>\n",
       "      <td>7</td>\n",
       "      <td>0</td>\n",
       "      <td>0</td>\n",
       "      <td>1</td>\n",
       "    </tr>\n",
       "    <tr>\n",
       "      <th rowspan=\"2\" valign=\"top\">2016</th>\n",
       "      <th>CPL</th>\n",
       "      <td>1</td>\n",
       "      <td>1</td>\n",
       "      <td>1</td>\n",
       "      <td>1</td>\n",
       "      <td>1</td>\n",
       "      <td>10</td>\n",
       "      <td>7</td>\n",
       "      <td>1</td>\n",
       "      <td>1</td>\n",
       "      <td>4</td>\n",
       "      <td>...</td>\n",
       "      <td>2</td>\n",
       "      <td>0</td>\n",
       "      <td>0</td>\n",
       "      <td>2</td>\n",
       "      <td>0</td>\n",
       "      <td>2</td>\n",
       "      <td>2</td>\n",
       "      <td>0</td>\n",
       "      <td>0</td>\n",
       "      <td>1</td>\n",
       "    </tr>\n",
       "    <tr>\n",
       "      <th>PSL</th>\n",
       "      <td>1</td>\n",
       "      <td>1</td>\n",
       "      <td>1</td>\n",
       "      <td>1</td>\n",
       "      <td>1</td>\n",
       "      <td>16</td>\n",
       "      <td>7</td>\n",
       "      <td>1</td>\n",
       "      <td>1</td>\n",
       "      <td>5</td>\n",
       "      <td>...</td>\n",
       "      <td>2</td>\n",
       "      <td>0</td>\n",
       "      <td>0</td>\n",
       "      <td>1</td>\n",
       "      <td>0</td>\n",
       "      <td>1</td>\n",
       "      <td>3</td>\n",
       "      <td>0</td>\n",
       "      <td>0</td>\n",
       "      <td>1</td>\n",
       "    </tr>\n",
       "    <tr>\n",
       "      <th>2017</th>\n",
       "      <th>CPL</th>\n",
       "      <td>1</td>\n",
       "      <td>1</td>\n",
       "      <td>1</td>\n",
       "      <td>1</td>\n",
       "      <td>1</td>\n",
       "      <td>9</td>\n",
       "      <td>7</td>\n",
       "      <td>1</td>\n",
       "      <td>1</td>\n",
       "      <td>3</td>\n",
       "      <td>...</td>\n",
       "      <td>1</td>\n",
       "      <td>0</td>\n",
       "      <td>0</td>\n",
       "      <td>1</td>\n",
       "      <td>0</td>\n",
       "      <td>1</td>\n",
       "      <td>1</td>\n",
       "      <td>0</td>\n",
       "      <td>0</td>\n",
       "      <td>1</td>\n",
       "    </tr>\n",
       "    <tr>\n",
       "      <th rowspan=\"3\" valign=\"top\">2019</th>\n",
       "      <th>BBL</th>\n",
       "      <td>1</td>\n",
       "      <td>1</td>\n",
       "      <td>1</td>\n",
       "      <td>1</td>\n",
       "      <td>1</td>\n",
       "      <td>7</td>\n",
       "      <td>6</td>\n",
       "      <td>1</td>\n",
       "      <td>1</td>\n",
       "      <td>4</td>\n",
       "      <td>...</td>\n",
       "      <td>0</td>\n",
       "      <td>0</td>\n",
       "      <td>0</td>\n",
       "      <td>1</td>\n",
       "      <td>0</td>\n",
       "      <td>2</td>\n",
       "      <td>2</td>\n",
       "      <td>0</td>\n",
       "      <td>0</td>\n",
       "      <td>1</td>\n",
       "    </tr>\n",
       "    <tr>\n",
       "      <th>CPL</th>\n",
       "      <td>1</td>\n",
       "      <td>1</td>\n",
       "      <td>1</td>\n",
       "      <td>1</td>\n",
       "      <td>1</td>\n",
       "      <td>13</td>\n",
       "      <td>8</td>\n",
       "      <td>1</td>\n",
       "      <td>1</td>\n",
       "      <td>5</td>\n",
       "      <td>...</td>\n",
       "      <td>2</td>\n",
       "      <td>0</td>\n",
       "      <td>0</td>\n",
       "      <td>1</td>\n",
       "      <td>0</td>\n",
       "      <td>2</td>\n",
       "      <td>4</td>\n",
       "      <td>0</td>\n",
       "      <td>0</td>\n",
       "      <td>1</td>\n",
       "    </tr>\n",
       "    <tr>\n",
       "      <th>PSL</th>\n",
       "      <td>1</td>\n",
       "      <td>1</td>\n",
       "      <td>1</td>\n",
       "      <td>1</td>\n",
       "      <td>1</td>\n",
       "      <td>17</td>\n",
       "      <td>7</td>\n",
       "      <td>1</td>\n",
       "      <td>1</td>\n",
       "      <td>8</td>\n",
       "      <td>...</td>\n",
       "      <td>1</td>\n",
       "      <td>0</td>\n",
       "      <td>0</td>\n",
       "      <td>2</td>\n",
       "      <td>0</td>\n",
       "      <td>2</td>\n",
       "      <td>6</td>\n",
       "      <td>0</td>\n",
       "      <td>0</td>\n",
       "      <td>1</td>\n",
       "    </tr>\n",
       "    <tr>\n",
       "      <th>2020</th>\n",
       "      <th>CPL</th>\n",
       "      <td>1</td>\n",
       "      <td>1</td>\n",
       "      <td>1</td>\n",
       "      <td>1</td>\n",
       "      <td>1</td>\n",
       "      <td>6</td>\n",
       "      <td>7</td>\n",
       "      <td>1</td>\n",
       "      <td>1</td>\n",
       "      <td>2</td>\n",
       "      <td>...</td>\n",
       "      <td>1</td>\n",
       "      <td>0</td>\n",
       "      <td>0</td>\n",
       "      <td>1</td>\n",
       "      <td>0</td>\n",
       "      <td>0</td>\n",
       "      <td>0</td>\n",
       "      <td>0</td>\n",
       "      <td>0</td>\n",
       "      <td>1</td>\n",
       "    </tr>\n",
       "    <tr>\n",
       "      <th rowspan=\"2\" valign=\"top\">2022</th>\n",
       "      <th>BBL</th>\n",
       "      <td>1</td>\n",
       "      <td>1</td>\n",
       "      <td>1</td>\n",
       "      <td>1</td>\n",
       "      <td>1</td>\n",
       "      <td>13</td>\n",
       "      <td>7</td>\n",
       "      <td>1</td>\n",
       "      <td>1</td>\n",
       "      <td>8</td>\n",
       "      <td>...</td>\n",
       "      <td>1</td>\n",
       "      <td>0</td>\n",
       "      <td>0</td>\n",
       "      <td>2</td>\n",
       "      <td>0</td>\n",
       "      <td>2</td>\n",
       "      <td>6</td>\n",
       "      <td>0</td>\n",
       "      <td>0</td>\n",
       "      <td>1</td>\n",
       "    </tr>\n",
       "    <tr>\n",
       "      <th>SAT</th>\n",
       "      <td>2</td>\n",
       "      <td>1</td>\n",
       "      <td>1</td>\n",
       "      <td>2</td>\n",
       "      <td>1</td>\n",
       "      <td>15</td>\n",
       "      <td>7</td>\n",
       "      <td>2</td>\n",
       "      <td>2</td>\n",
       "      <td>11</td>\n",
       "      <td>...</td>\n",
       "      <td>1</td>\n",
       "      <td>1</td>\n",
       "      <td>0</td>\n",
       "      <td>2</td>\n",
       "      <td>0</td>\n",
       "      <td>2</td>\n",
       "      <td>7</td>\n",
       "      <td>0</td>\n",
       "      <td>0</td>\n",
       "      <td>1</td>\n",
       "    </tr>\n",
       "    <tr>\n",
       "      <th rowspan=\"4\" valign=\"top\">2023</th>\n",
       "      <th>BBL</th>\n",
       "      <td>1</td>\n",
       "      <td>1</td>\n",
       "      <td>1</td>\n",
       "      <td>1</td>\n",
       "      <td>1</td>\n",
       "      <td>7</td>\n",
       "      <td>7</td>\n",
       "      <td>1</td>\n",
       "      <td>1</td>\n",
       "      <td>4</td>\n",
       "      <td>...</td>\n",
       "      <td>1</td>\n",
       "      <td>0</td>\n",
       "      <td>0</td>\n",
       "      <td>0</td>\n",
       "      <td>0</td>\n",
       "      <td>2</td>\n",
       "      <td>2</td>\n",
       "      <td>0</td>\n",
       "      <td>0</td>\n",
       "      <td>1</td>\n",
       "    </tr>\n",
       "    <tr>\n",
       "      <th>CPL</th>\n",
       "      <td>2</td>\n",
       "      <td>1</td>\n",
       "      <td>1</td>\n",
       "      <td>1</td>\n",
       "      <td>1</td>\n",
       "      <td>5</td>\n",
       "      <td>8</td>\n",
       "      <td>2</td>\n",
       "      <td>2</td>\n",
       "      <td>6</td>\n",
       "      <td>...</td>\n",
       "      <td>2</td>\n",
       "      <td>1</td>\n",
       "      <td>0</td>\n",
       "      <td>1</td>\n",
       "      <td>0</td>\n",
       "      <td>2</td>\n",
       "      <td>3</td>\n",
       "      <td>0</td>\n",
       "      <td>0</td>\n",
       "      <td>1</td>\n",
       "    </tr>\n",
       "    <tr>\n",
       "      <th>IPL</th>\n",
       "      <td>1</td>\n",
       "      <td>1</td>\n",
       "      <td>1</td>\n",
       "      <td>1</td>\n",
       "      <td>1</td>\n",
       "      <td>20</td>\n",
       "      <td>8</td>\n",
       "      <td>1</td>\n",
       "      <td>1</td>\n",
       "      <td>8</td>\n",
       "      <td>...</td>\n",
       "      <td>2</td>\n",
       "      <td>0</td>\n",
       "      <td>0</td>\n",
       "      <td>0</td>\n",
       "      <td>0</td>\n",
       "      <td>3</td>\n",
       "      <td>7</td>\n",
       "      <td>0</td>\n",
       "      <td>0</td>\n",
       "      <td>1</td>\n",
       "    </tr>\n",
       "    <tr>\n",
       "      <th>SAT</th>\n",
       "      <td>1</td>\n",
       "      <td>1</td>\n",
       "      <td>1</td>\n",
       "      <td>1</td>\n",
       "      <td>1</td>\n",
       "      <td>5</td>\n",
       "      <td>7</td>\n",
       "      <td>1</td>\n",
       "      <td>1</td>\n",
       "      <td>4</td>\n",
       "      <td>...</td>\n",
       "      <td>1</td>\n",
       "      <td>0</td>\n",
       "      <td>0</td>\n",
       "      <td>0</td>\n",
       "      <td>0</td>\n",
       "      <td>2</td>\n",
       "      <td>2</td>\n",
       "      <td>0</td>\n",
       "      <td>0</td>\n",
       "      <td>1</td>\n",
       "    </tr>\n",
       "  </tbody>\n",
       "</table>\n",
       "<p>16 rows × 33 columns</p>\n",
       "</div>"
      ],
      "text/plain": [
       "             match_id  season  start_date  venue  innings  over  ball  \\\n",
       "year league                                                             \n",
       "2011 IPL            1       1           1      1        1    11     7   \n",
       "2013 BBL            1       1           1      1        1     6     7   \n",
       "2015 IPL            1       1           1      1        1    20     8   \n",
       "2016 CPL            1       1           1      1        1    10     7   \n",
       "     PSL            1       1           1      1        1    16     7   \n",
       "2017 CPL            1       1           1      1        1     9     7   \n",
       "2019 BBL            1       1           1      1        1     7     6   \n",
       "     CPL            1       1           1      1        1    13     8   \n",
       "     PSL            1       1           1      1        1    17     7   \n",
       "2020 CPL            1       1           1      1        1     6     7   \n",
       "2022 BBL            1       1           1      1        1    13     7   \n",
       "     SAT            2       1           1      2        1    15     7   \n",
       "2023 BBL            1       1           1      1        1     7     7   \n",
       "     CPL            2       1           1      1        1     5     8   \n",
       "     IPL            1       1           1      1        1    20     8   \n",
       "     SAT            1       1           1      1        1     5     7   \n",
       "\n",
       "             batting_team  bowling_team  striker  ...  wides  noballs  byes  \\\n",
       "year league                                       ...                         \n",
       "2011 IPL                1             1        5  ...      1        1     0   \n",
       "2013 BBL                1             1        2  ...      1        0     0   \n",
       "2015 IPL                1             1        8  ...      1        1     2   \n",
       "2016 CPL                1             1        4  ...      2        0     0   \n",
       "     PSL                1             1        5  ...      2        0     0   \n",
       "2017 CPL                1             1        3  ...      1        0     0   \n",
       "2019 BBL                1             1        4  ...      0        0     0   \n",
       "     CPL                1             1        5  ...      2        0     0   \n",
       "     PSL                1             1        8  ...      1        0     0   \n",
       "2020 CPL                1             1        2  ...      1        0     0   \n",
       "2022 BBL                1             1        8  ...      1        0     0   \n",
       "     SAT                2             2       11  ...      1        1     0   \n",
       "2023 BBL                1             1        4  ...      1        0     0   \n",
       "     CPL                2             2        6  ...      2        1     0   \n",
       "     IPL                1             1        8  ...      2        0     0   \n",
       "     SAT                1             1        4  ...      1        0     0   \n",
       "\n",
       "             legbyes  penalty  wicket_type  player_dismissed  \\\n",
       "year league                                                    \n",
       "2011 IPL           1        0            2                 3   \n",
       "2013 BBL           1        0            1                 1   \n",
       "2015 IPL           1        0            3                 7   \n",
       "2016 CPL           2        0            2                 2   \n",
       "     PSL           1        0            1                 3   \n",
       "2017 CPL           1        0            1                 1   \n",
       "2019 BBL           1        0            2                 2   \n",
       "     CPL           1        0            2                 4   \n",
       "     PSL           2        0            2                 6   \n",
       "2020 CPL           1        0            0                 0   \n",
       "2022 BBL           2        0            2                 6   \n",
       "     SAT           2        0            2                 7   \n",
       "2023 BBL           0        0            2                 2   \n",
       "     CPL           1        0            2                 3   \n",
       "     IPL           0        0            3                 7   \n",
       "     SAT           0        0            2                 2   \n",
       "\n",
       "             other_wicket_type  other_player_dismissed  .groups  \n",
       "year league                                                      \n",
       "2011 IPL                     0                       0        1  \n",
       "2013 BBL                     0                       0        1  \n",
       "2015 IPL                     0                       0        1  \n",
       "2016 CPL                     0                       0        1  \n",
       "     PSL                     0                       0        1  \n",
       "2017 CPL                     0                       0        1  \n",
       "2019 BBL                     0                       0        1  \n",
       "     CPL                     0                       0        1  \n",
       "     PSL                     0                       0        1  \n",
       "2020 CPL                     0                       0        1  \n",
       "2022 BBL                     0                       0        1  \n",
       "     SAT                     0                       0        1  \n",
       "2023 BBL                     0                       0        1  \n",
       "     CPL                     0                       0        1  \n",
       "     IPL                     0                       0        1  \n",
       "     SAT                     0                       0        1  \n",
       "\n",
       "[16 rows x 33 columns]"
      ]
     },
     "execution_count": 38,
     "metadata": {},
     "output_type": "execute_result"
    }
   ],
   "source": [
    "cricket_data.groupby(['match_id', 'year', 'league']).filter(lambda x: x['innings'].max() == 1).groupby(['year', 'league']).nunique()"
   ]
  },
  {
   "cell_type": "markdown",
   "metadata": {},
   "source": [
    "target:"
   ]
  },
  {
   "cell_type": "code",
   "execution_count": 39,
   "metadata": {},
   "outputs": [
    {
     "data": {
      "text/plain": [
       "(array([1.34000e+02, 1.99000e+03, 9.40800e+03, 4.46770e+04, 1.30370e+05,\n",
       "        2.03662e+05, 1.19589e+05, 3.88120e+04, 5.89700e+03, 2.52000e+03]),\n",
       " array([ 20. ,  46.8,  73.6, 100.4, 127.2, 154. , 180.8, 207.6, 234.4,\n",
       "        261.2, 288. ]),\n",
       " <BarContainer object of 10 artists>)"
      ]
     },
     "execution_count": 39,
     "metadata": {},
     "output_type": "execute_result"
    },
    {
     "data": {
      "image/png": "[encoded data removed]",
      "text/plain": [
       "<Figure size 640x480 with 1 Axes>"
      ]
     },
     "metadata": {},
     "output_type": "display_data"
    }
   ],
   "source": [
    "plt.hist(cricket_data['target'])"
   ]
  },
  {
   "cell_type": "code",
   "execution_count": 40,
   "metadata": {},
   "outputs": [
    {
     "data": {
      "text/plain": [
       "count    557059.000000\n",
       "mean        165.777980\n",
       "std          30.851527\n",
       "min          20.000000\n",
       "25%         147.000000\n",
       "50%         166.000000\n",
       "75%         185.000000\n",
       "max         288.000000\n",
       "Name: target, dtype: float64"
      ]
     },
     "execution_count": 40,
     "metadata": {},
     "output_type": "execute_result"
    }
   ],
   "source": [
    "cricket_data['target'].describe()"
   ]
  },
  {
   "cell_type": "markdown",
   "metadata": {},
   "source": [
    "balls remaining:"
   ]
  },
  {
   "cell_type": "code",
   "execution_count": 41,
   "metadata": {},
   "outputs": [
    {
     "data": {
      "text/plain": [
       "(array([44100., 52585., 55172., 56533., 57060., 57536., 57740., 58280.,\n",
       "        58520., 59533.]),\n",
       " array([  0.,  12.,  24.,  36.,  48.,  60.,  72.,  84.,  96., 108., 120.]),\n",
       " <BarContainer object of 10 artists>)"
      ]
     },
     "execution_count": 41,
     "metadata": {},
     "output_type": "execute_result"
    },
    {
     "data": {
      "image/png": "[encoded data removed]",
      "text/plain": [
       "<Figure size 640x480 with 1 Axes>"
      ]
     },
     "metadata": {},
     "output_type": "display_data"
    }
   ],
   "source": [
    "plt.hist(cricket_data['balls_remaining'])"
   ]
  },
  {
   "cell_type": "markdown",
   "metadata": {},
   "source": [
    "runs_scored_yet"
   ]
  },
  {
   "cell_type": "code",
   "execution_count": 42,
   "metadata": {},
   "outputs": [
    {
     "data": {
      "text/plain": [
       "count    557059.000000\n",
       "mean         75.049465\n",
       "std          48.573728\n",
       "min           0.000000\n",
       "25%          35.000000\n",
       "50%          71.000000\n",
       "75%         111.000000\n",
       "max         287.000000\n",
       "Name: runs_scored_yet, dtype: float64"
      ]
     },
     "execution_count": 42,
     "metadata": {},
     "output_type": "execute_result"
    }
   ],
   "source": [
    "cricket_data['runs_scored_yet'].describe()"
   ]
  },
  {
   "cell_type": "markdown",
   "metadata": {},
   "source": [
    "wickets_lost_yet - how many times has the team gotten out to end the inning (as opposed to reaching 20 overs)"
   ]
  },
  {
   "cell_type": "code",
   "execution_count": 43,
   "metadata": {},
   "outputs": [
    {
     "data": {
      "text/plain": [
       "count    557059.000000\n",
       "mean          2.530818\n",
       "std           2.134725\n",
       "min           0.000000\n",
       "25%           1.000000\n",
       "50%           2.000000\n",
       "75%           4.000000\n",
       "max          10.000000\n",
       "Name: wickets_lost_yet, dtype: float64"
      ]
     },
     "execution_count": 43,
     "metadata": {},
     "output_type": "execute_result"
    }
   ],
   "source": [
    "cricket_data['wickets_lost_yet'].describe()"
   ]
  },
  {
   "cell_type": "markdown",
   "metadata": {},
   "source": [
    "venue"
   ]
  },
  {
   "cell_type": "code",
   "execution_count": 44,
   "metadata": {},
   "outputs": [
    {
     "data": {
      "text/plain": [
       "league\n",
       "BBL    32\n",
       "CPL    17\n",
       "IPL    58\n",
       "PSL    10\n",
       "SAT     6\n",
       "Name: venue, dtype: int64"
      ]
     },
     "execution_count": 44,
     "metadata": {},
     "output_type": "execute_result"
    }
   ],
   "source": [
    "cricket_data.groupby('league')['venue'].nunique()"
   ]
  },
  {
   "cell_type": "markdown",
   "metadata": {},
   "source": [
    "striker"
   ]
  },
  {
   "cell_type": "code",
   "execution_count": 45,
   "metadata": {},
   "outputs": [
    {
     "data": {
      "text/plain": [
       "league\n",
       "BBL    454\n",
       "CPL    366\n",
       "IPL    674\n",
       "PSL    343\n",
       "SAT    129\n",
       "Name: striker, dtype: int64"
      ]
     },
     "execution_count": 45,
     "metadata": {},
     "output_type": "execute_result"
    }
   ],
   "source": [
    "cricket_data.groupby('league')['striker'].nunique()"
   ]
  },
  {
   "cell_type": "markdown",
   "metadata": {},
   "source": [
    "bowler"
   ]
  },
  {
   "cell_type": "code",
   "execution_count": 46,
   "metadata": {},
   "outputs": [
    {
     "data": {
      "text/plain": [
       "league\n",
       "BBL    342\n",
       "CPL    263\n",
       "IPL    531\n",
       "PSL    246\n",
       "SAT     98\n",
       "Name: bowler, dtype: int64"
      ]
     },
     "execution_count": 46,
     "metadata": {},
     "output_type": "execute_result"
    }
   ],
   "source": [
    "cricket_data.groupby('league')['bowler'].nunique()"
   ]
  },
  {
   "cell_type": "markdown",
   "metadata": {},
   "source": [
    "runs off bat"
   ]
  },
  {
   "cell_type": "code",
   "execution_count": 47,
   "metadata": {},
   "outputs": [
    {
     "data": {
      "text/plain": [
       "(array([2.23584e+05, 2.05886e+05, 0.00000e+00, 3.72880e+04, 0.00000e+00,\n",
       "        2.20200e+03, 6.01180e+04, 0.00000e+00, 1.02000e+02, 2.78790e+04]),\n",
       " array([0. , 0.6, 1.2, 1.8, 2.4, 3. , 3.6, 4.2, 4.8, 5.4, 6. ]),\n",
       " <BarContainer object of 10 artists>)"
      ]
     },
     "execution_count": 47,
     "metadata": {},
     "output_type": "execute_result"
    },
    {
     "data": {
      "image/png": "[encoded data removed]",
      "text/plain": [
       "<Figure size 640x480 with 1 Axes>"
      ]
     },
     "metadata": {},
     "output_type": "display_data"
    }
   ],
   "source": [
    "plt.hist(cricket_data['runs_off_bat'])"
   ]
  },
  {
   "cell_type": "markdown",
   "metadata": {},
   "source": [
    "data cleaning\n",
    "- drop years before 2011 (2007 and 2009)\n",
    "    - continuous data since 2011 for IPL and BBL (but no 2024 for BBL)\n",
    "    - CPL doesn't start until 2013, continous through 2024\n",
    "    - PSL doesn't start till 2015, through 2023\n",
    "    - SAT doesn't start until 2022, through 2023\n",
    "\n",
    "\n",
    "- do we want partial games ? \n",
    "    - 18 games which only reach one inning\n",
    "\n",
    "- drop runs off bat worth 3 and 5\n",
    "\n",
    "\n",
    "\n"
   ]
  },
  {
   "cell_type": "markdown",
   "metadata": {},
   "source": [
    "# training vs validation vs test set"
   ]
  },
  {
   "cell_type": "code",
   "execution_count": 33,
   "metadata": {},
   "outputs": [],
   "source": [
    "train_obj = data.train_dataset.data\n",
    "test_obj = data.test_dataset.data\n",
    "val_obj = data.validation_dataset.data\n",
    "\n",
    "dataset = data.select_bbb\n",
    "\n",
    "train_list = []\n",
    "for item in train_obj.indices:\n",
    "    train_list.append(item)\n",
    "\n",
    "validation_list = []\n",
    "for item in val_obj.indices:\n",
    "    validation_list.append(item)\n",
    "\n",
    "test_list = []\n",
    "for item in test_obj.indices:\n",
    "    test_list.append(item)\n",
    "\n",
    "train_data = dataset.iloc[train_list]\n",
    "test_data = dataset.iloc[test_list]\n",
    "validation_data = dataset.iloc[validation_list]\n"
   ]
  },
  {
   "cell_type": "code",
   "execution_count": 34,
   "metadata": {},
   "outputs": [
    {
     "data": {
      "text/plain": [
       "Index(['target', 'balls_remaining', 'runs_scored_yet', 'wickets_lost_yet',\n",
       "       'season_2011', 'season_2012', 'season_2013', 'season_2014',\n",
       "       'season_2015', 'season_2016',\n",
       "       ...\n",
       "       'bowler_Zaman Khan', 'bowler_Zeeshan Zameer', 'bowler_Zia-ul-Haq',\n",
       "       'bowler_Zohaib Khan', 'bowler_Zulfiqar Babar', 'league_BBL',\n",
       "       'league_CPL', 'league_IPL', 'league_PSL', 'league_SAT'],\n",
       "      dtype='object', length=2404)"
      ]
     },
     "execution_count": 34,
     "metadata": {},
     "output_type": "execute_result"
    }
   ],
   "source": [
    "dataset.columns"
   ]
  },
  {
   "cell_type": "markdown",
   "metadata": {},
   "source": [
    "season representation per league"
   ]
  },
  {
   "cell_type": "code",
   "execution_count": 92,
   "metadata": {},
   "outputs": [
    {
     "name": "stderr",
     "output_type": "stream",
     "text": [
      "C:\\Users\\Leigh\\AppData\\Local\\Temp\\ipykernel_28228\\2030781050.py:7: SettingWithCopyWarning: \n",
      "A value is trying to be set on a copy of a slice from a DataFrame.\n",
      "Try using .loc[row_indexer,col_indexer] = value instead\n",
      "\n",
      "See the caveats in the documentation: https://pandas.pydata.org/pandas-docs/stable/user_guide/indexing.html#returning-a-view-versus-a-copy\n",
      "  train_data['season'] = pd.from_dummies(train_data[season_cols], sep = '_20')\n",
      "C:\\Users\\Leigh\\AppData\\Local\\Temp\\ipykernel_28228\\2030781050.py:8: SettingWithCopyWarning: \n",
      "A value is trying to be set on a copy of a slice from a DataFrame.\n",
      "Try using .loc[row_indexer,col_indexer] = value instead\n",
      "\n",
      "See the caveats in the documentation: https://pandas.pydata.org/pandas-docs/stable/user_guide/indexing.html#returning-a-view-versus-a-copy\n",
      "  train_data['season'] = pd.Categorical(train_data['season'], categories=categories, ordered=True)\n",
      "C:\\Users\\Leigh\\AppData\\Local\\Temp\\ipykernel_28228\\2030781050.py:12: SettingWithCopyWarning: \n",
      "A value is trying to be set on a copy of a slice from a DataFrame.\n",
      "Try using .loc[row_indexer,col_indexer] = value instead\n",
      "\n",
      "See the caveats in the documentation: https://pandas.pydata.org/pandas-docs/stable/user_guide/indexing.html#returning-a-view-versus-a-copy\n",
      "  test_data['season'] = pd.from_dummies(test_data[season_cols], sep = '_20')\n",
      "C:\\Users\\Leigh\\AppData\\Local\\Temp\\ipykernel_28228\\2030781050.py:13: SettingWithCopyWarning: \n",
      "A value is trying to be set on a copy of a slice from a DataFrame.\n",
      "Try using .loc[row_indexer,col_indexer] = value instead\n",
      "\n",
      "See the caveats in the documentation: https://pandas.pydata.org/pandas-docs/stable/user_guide/indexing.html#returning-a-view-versus-a-copy\n",
      "  test_data['season'] = pd.Categorical(test_data['season'], categories=categories, ordered=True)\n",
      "C:\\Users\\Leigh\\AppData\\Local\\Temp\\ipykernel_28228\\2030781050.py:17: SettingWithCopyWarning: \n",
      "A value is trying to be set on a copy of a slice from a DataFrame.\n",
      "Try using .loc[row_indexer,col_indexer] = value instead\n",
      "\n",
      "See the caveats in the documentation: https://pandas.pydata.org/pandas-docs/stable/user_guide/indexing.html#returning-a-view-versus-a-copy\n",
      "  validation_data['season'] = pd.from_dummies(validation_data[season_cols], sep = '_20')\n",
      "C:\\Users\\Leigh\\AppData\\Local\\Temp\\ipykernel_28228\\2030781050.py:18: SettingWithCopyWarning: \n",
      "A value is trying to be set on a copy of a slice from a DataFrame.\n",
      "Try using .loc[row_indexer,col_indexer] = value instead\n",
      "\n",
      "See the caveats in the documentation: https://pandas.pydata.org/pandas-docs/stable/user_guide/indexing.html#returning-a-view-versus-a-copy\n",
      "  validation_data['season'] = pd.Categorical(validation_data['season'], categories=categories, ordered=True)\n"
     ]
    },
    {
     "data": {
      "text/plain": [
       "Text(0, 0.5, 'Validation')"
      ]
     },
     "execution_count": 92,
     "metadata": {},
     "output_type": "execute_result"
    },
    {
     "data": {
      "image/png": "[encoded data removed]",
      "text/plain": [
       "<Figure size 640x480 with 3 Axes>"
      ]
     },
     "metadata": {},
     "output_type": "display_data"
    }
   ],
   "source": [
    "# by league for each subset\n",
    "\n",
    "season_cols = [col for col in dataset.columns if col.startswith('season_')]\n",
    "categories = ['11', '12', '13', '14', '15', '16', '17', '18', '19', '20', '21', '22', '23', '24']\n",
    "\n",
    "\n",
    "train_data['season'] = pd.from_dummies(train_data[season_cols], sep = '_20')\n",
    "train_data['season'] = pd.Categorical(train_data['season'], categories=categories, ordered=True)\n",
    "train_categories = train_data['season'].value_counts().index.sort_values()\n",
    "train_counts = train_data['season'].value_counts().sort_index().values\n",
    "\n",
    "test_data['season'] = pd.from_dummies(test_data[season_cols], sep = '_20')\n",
    "test_data['season'] = pd.Categorical(test_data['season'], categories=categories, ordered=True)\n",
    "test_categories = test_data['season'].value_counts().index.sort_values()\n",
    "test_counts = test_data['season'].value_counts().sort_index().values\n",
    "\n",
    "validation_data['season'] = pd.from_dummies(validation_data[season_cols], sep = '_20')\n",
    "validation_data['season'] = pd.Categorical(validation_data['season'], categories=categories, ordered=True)\n",
    "val_categories = validation_data['season'].value_counts().index.sort_values()\n",
    "val_counts = validation_data['season'].value_counts().sort_index().values\n",
    "\n",
    "\n",
    "fig, axes = plt.subplots(3, 1)\n",
    "axes[0].bar(train_categories, train_counts)\n",
    "axes[0].set_ylabel('Train')\n",
    "axes[1].bar(test_categories, test_counts)\n",
    "axes[1].set_ylabel('Test')\n",
    "axes[2].bar(val_categories, val_counts)\n",
    "axes[2].set_ylabel('Validation')\n",
    "\n"
   ]
  },
  {
   "cell_type": "code",
   "execution_count": 90,
   "metadata": {},
   "outputs": [
    {
     "name": "stderr",
     "output_type": "stream",
     "text": [
      "C:\\Users\\Leigh\\AppData\\Local\\Temp\\ipykernel_28228\\3248388908.py:4: SettingWithCopyWarning: \n",
      "A value is trying to be set on a copy of a slice from a DataFrame.\n",
      "Try using .loc[row_indexer,col_indexer] = value instead\n",
      "\n",
      "See the caveats in the documentation: https://pandas.pydata.org/pandas-docs/stable/user_guide/indexing.html#returning-a-view-versus-a-copy\n",
      "  train_data['league'] = pd.from_dummies(train_data[league_cols], sep = '_')\n",
      "C:\\Users\\Leigh\\AppData\\Local\\Temp\\ipykernel_28228\\3248388908.py:8: SettingWithCopyWarning: \n",
      "A value is trying to be set on a copy of a slice from a DataFrame.\n",
      "Try using .loc[row_indexer,col_indexer] = value instead\n",
      "\n",
      "See the caveats in the documentation: https://pandas.pydata.org/pandas-docs/stable/user_guide/indexing.html#returning-a-view-versus-a-copy\n",
      "  test_data['league'] = pd.from_dummies(test_data[league_cols], sep = '_')\n",
      "C:\\Users\\Leigh\\AppData\\Local\\Temp\\ipykernel_28228\\3248388908.py:12: SettingWithCopyWarning: \n",
      "A value is trying to be set on a copy of a slice from a DataFrame.\n",
      "Try using .loc[row_indexer,col_indexer] = value instead\n",
      "\n",
      "See the caveats in the documentation: https://pandas.pydata.org/pandas-docs/stable/user_guide/indexing.html#returning-a-view-versus-a-copy\n",
      "  validation_data['league'] = pd.from_dummies(validation_data[league_cols], sep = '_')\n"
     ]
    },
    {
     "data": {
      "text/plain": [
       "Text(0, 0.5, 'Validation')"
      ]
     },
     "execution_count": 90,
     "metadata": {},
     "output_type": "execute_result"
    },
    {
     "data": {
      "image/png": "[encoded data removed]",
      "text/plain": [
       "<Figure size 640x480 with 3 Axes>"
      ]
     },
     "metadata": {},
     "output_type": "display_data"
    }
   ],
   "source": [
    "league_cols = [col for col in dataset.columns if col.startswith('league_')]\n",
    "\n",
    "\n",
    "train_data['league'] = pd.from_dummies(train_data[league_cols], sep = '_')\n",
    "train_categories = train_data['league'].value_counts().index\n",
    "train_counts = train_data['league'].value_counts()\n",
    "\n",
    "test_data['league'] = pd.from_dummies(test_data[league_cols], sep = '_')\n",
    "test_categories = test_data['league'].value_counts().index\n",
    "test_counts = test_data['league'].value_counts()\n",
    "\n",
    "validation_data['league'] = pd.from_dummies(validation_data[league_cols], sep = '_')\n",
    "val_categories = validation_data['league'].value_counts().index\n",
    "val_counts = validation_data['league'].value_counts()\n",
    "\n",
    "\n",
    "fig, axes = plt.subplots(3, 1)\n",
    "axes[0].bar(train_categories, train_counts)\n",
    "axes[0].set_ylabel('Train')\n",
    "axes[1].bar(test_categories, test_counts)\n",
    "axes[1].set_ylabel('Test')\n",
    "axes[2].bar(val_categories, val_counts)\n",
    "axes[2].set_ylabel('Validation')\n"
   ]
  },
  {
   "cell_type": "code",
   "execution_count": 91,
   "metadata": {},
   "outputs": [
    {
     "data": {
      "text/plain": [
       "<seaborn.axisgrid.FacetGrid at 0x29e40f872c0>"
      ]
     },
     "execution_count": 91,
     "metadata": {},
     "output_type": "execute_result"
    },
    {
     "data": {
      "image/png": "[encoded data removed]",
      "text/plain": [
       "<Figure size 577x500 with 1 Axes>"
      ]
     },
     "metadata": {},
     "output_type": "display_data"
    },
    {
     "data": {
      "image/png": "[encoded data removed]",
      "text/plain": [
       "<Figure size 577x500 with 1 Axes>"
      ]
     },
     "metadata": {},
     "output_type": "display_data"
    },
    {
     "data": {
      "image/png": "[encoded data removed]",
      "text/plain": [
       "<Figure size 577x500 with 1 Axes>"
      ]
     },
     "metadata": {},
     "output_type": "display_data"
    }
   ],
   "source": [
    "\n",
    "train_categories = train_data.groupby('league')['season'].value_counts().reset_index()\n",
    "test_categories = test_data.groupby('league')['season'].value_counts().reset_index()\n",
    "val_categories = validation_data.groupby('league')['season'].value_counts().reset_index()\n",
    "\n",
    "\n",
    "sns.catplot(data = train_categories, kind = 'bar', x = 'season', y = 'count', hue = 'league').set_axis_labels('', 'Train')\n",
    "sns.catplot(data = test_categories, kind = 'bar', x = 'season', y = 'count', hue = 'league').set_axis_labels('', 'Test')\n",
    "sns.catplot(data = val_categories, kind = 'bar', x = 'season', y = 'count', hue = 'league').set_axis_labels('', 'Validation')\n",
    "\n"
   ]
  }
 ],
 "metadata": {
  "kernelspec": {
   "display_name": "Python 3",
   "language": "python",
   "name": "python3"
  },
  "language_info": {
   "codemirror_mode": {
    "name": "ipython",
    "version": 3
   },
   "file_extension": ".py",
   "mimetype": "text/x-python",
   "name": "python",
   "nbconvert_exporter": "python",
   "pygments_lexer": "ipython3",
   "version": "3.12.5"
  }
 },
 "nbformat": 4,
 "nbformat_minor": 2
}
